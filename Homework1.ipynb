{
 "cells": [
  {
   "cell_type": "markdown",
   "id": "bab815de",
   "metadata": {},
   "source": [
    "### Задача1. Из колоды в 52 карты извлекаются случайным образом 4 карты. a) Найти вероятность того, что все карты – крести. б) Найти вероятность, что среди 4-х карт окажется хотя бы один туз."
   ]
  },
  {
   "cell_type": "code",
   "execution_count": 1,
   "id": "b5cf4964",
   "metadata": {},
   "outputs": [],
   "source": [
    "import numpy as np\n",
    "from math import factorial"
   ]
  },
  {
   "cell_type": "code",
   "execution_count": 2,
   "id": "e0591f95",
   "metadata": {},
   "outputs": [],
   "source": [
    "def conjuction(n, k):\n",
    "    return np.math.factorial(n) / (np.math.factorial(k) * np.math.factorial(n-k))"
   ]
  },
  {
   "cell_type": "markdown",
   "id": "ff13b378",
   "metadata": {},
   "source": [
    "а) В колоде имеется 13 карт каждой масти. Рассчитываем количество вариантов крестовых карт в вытащенных 4 картах и общее количество исходов при 4 картах:"
   ]
  },
  {
   "cell_type": "code",
   "execution_count": 3,
   "id": "9e6ccbbd",
   "metadata": {},
   "outputs": [],
   "source": [
    "m_kresti = conjuction(13, 4)\n",
    "n = conjuction(52, 4)"
   ]
  },
  {
   "cell_type": "markdown",
   "id": "7d343729",
   "metadata": {},
   "source": [
    "Вычисляем по формуле вероятности P(a) = m/n"
   ]
  },
  {
   "cell_type": "code",
   "execution_count": 4,
   "id": "f48e27d5",
   "metadata": {},
   "outputs": [
    {
     "name": "stdout",
     "output_type": "stream",
     "text": [
      "0.0026410564225690276\n"
     ]
    }
   ],
   "source": [
    "P = m_kresti/n\n",
    "print(P)"
   ]
  },
  {
   "cell_type": "markdown",
   "id": "ad4e841f",
   "metadata": {},
   "source": [
    "Ответ: вероятность того, что все карты окажутся крести равна 0,26%"
   ]
  },
  {
   "cell_type": "markdown",
   "id": "fd371306",
   "metadata": {},
   "source": [
    "б)Рассмотрим вариант, когда среди 4-х карт окажется хотя бы один туз."
   ]
  },
  {
   "cell_type": "code",
   "execution_count": 6,
   "id": "fa944f4f",
   "metadata": {},
   "outputs": [],
   "source": [
    "a = conjuction(48, 3)\n",
    "b = conjuction(4, 1)\n",
    "c = conjuction(48, 2)\n",
    "d = conjuction(4, 2)\n",
    "e = conjuction(48, 1)\n",
    "f = conjuction(4, 3)\n",
    "m_tuzi = (a*b) + (c*d) + (e*f) + 1"
   ]
  },
  {
   "cell_type": "markdown",
   "id": "ecf26c3f",
   "metadata": {},
   "source": [
    "Вычисляем по формуле вероятности P(a) = m/n"
   ]
  },
  {
   "cell_type": "code",
   "execution_count": 7,
   "id": "47a892ba",
   "metadata": {},
   "outputs": [
    {
     "name": "stdout",
     "output_type": "stream",
     "text": [
      "0.2812632745405855\n"
     ]
    }
   ],
   "source": [
    "P1 = m_tuzi/n\n",
    "print(P1)"
   ]
  },
  {
   "cell_type": "markdown",
   "id": "9ed5f8ed",
   "metadata": {},
   "source": [
    "Вероятность вытащить хотя бы 1 туз равна 28%"
   ]
  },
  {
   "cell_type": "markdown",
   "id": "a55434e4",
   "metadata": {},
   "source": [
    "### Задача 2. На входной двери подъезда установлен кодовый замок, содержащий десять кнопок с цифрами от 0 до 9. Код содержит три цифры, которые нужно нажать одновременно . Какова вероятность того, что человек, не знающий код, откроет дверь с первой попытки?"
   ]
  },
  {
   "cell_type": "code",
   "execution_count": 8,
   "id": "c74d5d99",
   "metadata": {},
   "outputs": [
    {
     "name": "stdout",
     "output_type": "stream",
     "text": [
      "0.008333333333333333\n"
     ]
    }
   ],
   "source": [
    "p_code = 3/10* 2/9 * 1/8\n",
    "print(p_code)"
   ]
  },
  {
   "cell_type": "markdown",
   "id": "c00daec6",
   "metadata": {},
   "source": [
    "Вероятность того, что человек, не знающий код, откроет дверь с первой попытки равна 0,83%"
   ]
  },
  {
   "cell_type": "markdown",
   "id": "8ef3691a",
   "metadata": {},
   "source": [
    "### Задача 3.В ящике имеется 15 деталей, из которых 9 окрашены. Рабочий случайным образом извлекает 3 детали. Какова вероятность того, что все 3 извлеченные детали окрашены?"
   ]
  },
  {
   "cell_type": "code",
   "execution_count": 10,
   "id": "403b9c7a",
   "metadata": {},
   "outputs": [
    {
     "name": "stdout",
     "output_type": "stream",
     "text": [
      "0.18461538461538463\n"
     ]
    }
   ],
   "source": [
    "def conjuction(n, k):\n",
    "    return np.math.factorial(n) / (np.math.factorial(k) * np.math.factorial(n-k))\n",
    "common_ishodov = conjuction(15, 3)\n",
    "positive_ishody = conjuction(9, 3)\n",
    "result = positive_ishody/common_ishodov\n",
    "print (result)"
   ]
  },
  {
   "cell_type": "markdown",
   "id": "33a63a6a",
   "metadata": {},
   "source": [
    "Вероятность извлечь все окрашенные детали приблизительно равна 18,5%"
   ]
  },
  {
   "cell_type": "markdown",
   "id": "4f377a57",
   "metadata": {},
   "source": [
    "### Задача 4. В лотерее 100 билетов. Из них 2 выигрышных. Какова вероятность того, что 2 приобретенных билета окажутся выигрышными?"
   ]
  },
  {
   "cell_type": "code",
   "execution_count": 11,
   "id": "d718c201",
   "metadata": {},
   "outputs": [
    {
     "name": "stdout",
     "output_type": "stream",
     "text": [
      "0.00010101010101010102\n"
     ]
    }
   ],
   "source": [
    "first_ticket = 1/100\n",
    "second_ticket= 1/99\n",
    "p_win = first_ticket*second_ticket\n",
    "print(p_win)"
   ]
  },
  {
   "cell_type": "markdown",
   "id": "eaa01a15",
   "metadata": {},
   "source": [
    "Вероятность того, что 2 приобретенных билета окажутся выигрышными равна 0,01%"
   ]
  },
  {
   "cell_type": "code",
   "execution_count": null,
   "id": "26078a26",
   "metadata": {},
   "outputs": [],
   "source": []
  }
 ],
 "metadata": {
  "kernelspec": {
   "display_name": "Python 3 (ipykernel)",
   "language": "python",
   "name": "python3"
  },
  "language_info": {
   "codemirror_mode": {
    "name": "ipython",
    "version": 3
   },
   "file_extension": ".py",
   "mimetype": "text/x-python",
   "name": "python",
   "nbconvert_exporter": "python",
   "pygments_lexer": "ipython3",
   "version": "3.9.13"
  }
 },
 "nbformat": 4,
 "nbformat_minor": 5
}
